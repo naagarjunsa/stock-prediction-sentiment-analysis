{
 "cells": [
  {
   "cell_type": "code",
   "execution_count": 99,
   "metadata": {
    "scrolled": true
   },
   "outputs": [
    {
     "data": {
      "text/plain": [
       "Index(['Date', 'Label', 'Top1', 'Top2', 'Top3', 'Top4', 'Top5', 'Top6', 'Top7',\n",
       "       'Top8', 'Top9', 'Top10', 'Top11', 'Top12', 'Top13', 'Top14', 'Top15',\n",
       "       'Top16', 'Top17', 'Top18', 'Top19', 'Top20', 'Top21', 'Top22', 'Top23',\n",
       "       'Top24', 'Top25'],\n",
       "      dtype='object')"
      ]
     },
     "execution_count": 99,
     "metadata": {},
     "output_type": "execute_result"
    }
   ],
   "source": [
    "import pandas as pd\n",
    "df = pd.read_csv(\"data.csv\")\n",
    "df.columns"
   ]
  },
  {
   "cell_type": "code",
   "execution_count": 100,
   "metadata": {},
   "outputs": [
    {
     "name": "stdout",
     "output_type": "stream",
     "text": [
      "(1989, 27) (1863, 27) (378, 27)\n",
      "(1863, 25) (378, 25)\n",
      "(1863,) (378,)\n"
     ]
    }
   ],
   "source": [
    "#Data Preprocessing\n",
    "\n",
    "#removing the special characters\n",
    "df.replace(\"[^a-zA-Z0-9]\", \" \", regex=True, inplace = True)\n",
    "\n",
    "#lowercase all the strings\n",
    "for col in df.columns:\n",
    "    if col != 'Label':\n",
    "        df[col] = df[col].str.lower()\n",
    "\n",
    "        \n",
    "# splitting the test train based on date 01/01/2015 (problem statement) \n",
    "# although this is not recommended as we need to shuffle data\n",
    "# to add randomness and similar distribution of data on both\n",
    "# test and train datasets\n",
    "train_data = df[df['Date'] <= '20150101']\n",
    "test_data = df[df['Date'] > '20141231']\n",
    "print(df.shape, train_data.shape, test_data.shape)\n",
    "\n",
    "#extracting the input variables, features, independent variables\n",
    "x_train = train_data.iloc[ : , 2:27]\n",
    "x_test = test_data.iloc[ : , 2:27]\n",
    "print(x_train.shape, x_test.shape)\n",
    "\n",
    "#extracting the output variable, target, dependent variable\n",
    "y_train = train_data.iloc[ : , 1]\n",
    "y_test = test_data.iloc[ : , 1]\n",
    "print(y_train.shape, y_test.shape)"
   ]
  },
  {
   "cell_type": "code",
   "execution_count": 101,
   "metadata": {},
   "outputs": [],
   "source": [
    "#combine the headlines of each day into a paragraph \n",
    "headlines = []\n",
    "for row in range(len(x_train.index)):\n",
    "    headlines.append(''.join(str(x) for x in x_train.iloc[row, 0 : 25]))\n",
    "x_train['headlines'] = headlines\n",
    "\n",
    "headlines = []\n",
    "for row in range(len(x_test.index)):\n",
    "    headlines.append(''.join(str(x) for x in x_test.iloc[row, 0 : 25]))\n",
    "x_test['headlines'] = headlines"
   ]
  },
  {
   "cell_type": "code",
   "execution_count": 104,
   "metadata": {},
   "outputs": [],
   "source": [
    "#CountVectorizer for embeddings and RandomForestClassifier for classification\n",
    "from sklearn.feature_extraction.text import CountVectorizer\n",
    "from sklearn.ensemble import RandomForestClassifier\n",
    "\n",
    "#implement BAG of WORDS\n",
    "count_vector = CountVectorizer(ngram_range = (1,2))\n",
    "train_dataset = count_vector.fit_transform(x_train['headlines'])\n",
    "\n",
    "\n",
    "#implement Random Forest Classifier\n",
    "rf_classifier = RandomForestClassifier(n_estimators = 200, criterion = 'entropy')\n",
    "rf_classifier.fit(train_dataset, y_train)\n",
    "\n",
    "#predict for the test data\n",
    "test_dataset = count_vector.transform(x_test['headlines'])\n",
    "predictions = rf_classifier.predict(test_dataset)"
   ]
  },
  {
   "cell_type": "code",
   "execution_count": 109,
   "metadata": {},
   "outputs": [
    {
     "name": "stdout",
     "output_type": "stream",
     "text": [
      "[[152  34]\n",
      " [ 23 169]]\n",
      "0.8492063492063492\n",
      "              precision    recall  f1-score   support\n",
      "\n",
      "           0       0.87      0.82      0.84       186\n",
      "           1       0.83      0.88      0.86       192\n",
      "\n",
      "    accuracy                           0.85       378\n",
      "   macro avg       0.85      0.85      0.85       378\n",
      "weighted avg       0.85      0.85      0.85       378\n",
      "\n"
     ]
    }
   ],
   "source": [
    "from sklearn.metrics import classification_report, confusion_matrix, accuracy_score\n",
    "\n",
    "conf_matrix = confusion_matrix(y_test, predictions)\n",
    "print(conf_matrix)\n",
    "score = accuracy_score(y_test, predictions)\n",
    "print(score)\n",
    "report = classification_report(y_test, predictions)\n",
    "print(report)"
   ]
  },
  {
   "cell_type": "code",
   "execution_count": 111,
   "metadata": {},
   "outputs": [],
   "source": [
    "#TF-IDF Vectorizer for embeddings and RandomForestClassifier for classification\n",
    "from sklearn.feature_extraction.text import TfidfVectorizer\n",
    "from sklearn.ensemble import RandomForestClassifier\n",
    "\n",
    "tf_idf_vector = TfidfVectorizer(ngram_range=(2,2))\n",
    "train_dataset = tf_idf_vector.fit_transform(x_train['headlines'])\n",
    "\n",
    "\n",
    "#implement Random Forest Classifier\n",
    "rf_classifier = RandomForestClassifier(n_estimators = 200, criterion = 'entropy')\n",
    "rf_classifier.fit(train_dataset, y_train)\n",
    "\n",
    "#predict for the test data\n",
    "test_dataset = tf_idf_vector.transform(x_test['headlines'])\n",
    "predictions = rf_classifier.predict(test_dataset)"
   ]
  },
  {
   "cell_type": "code",
   "execution_count": 112,
   "metadata": {},
   "outputs": [
    {
     "name": "stdout",
     "output_type": "stream",
     "text": [
      "[[152  34]\n",
      " [ 26 166]]\n",
      "0.8412698412698413\n",
      "              precision    recall  f1-score   support\n",
      "\n",
      "           0       0.85      0.82      0.84       186\n",
      "           1       0.83      0.86      0.85       192\n",
      "\n",
      "    accuracy                           0.84       378\n",
      "   macro avg       0.84      0.84      0.84       378\n",
      "weighted avg       0.84      0.84      0.84       378\n",
      "\n"
     ]
    }
   ],
   "source": [
    "conf_matrix = confusion_matrix(y_test, predictions)\n",
    "print(conf_matrix)\n",
    "score = accuracy_score(y_test, predictions)\n",
    "print(score)\n",
    "report = classification_report(y_test, predictions)\n",
    "print(report)"
   ]
  },
  {
   "cell_type": "code",
   "execution_count": 116,
   "metadata": {},
   "outputs": [],
   "source": [
    "from sklearn.naive_bayes import MultinomialNB\n",
    "\n",
    "nb_classifier = MultinomialNB()\n",
    "nb_classifier.fit(train_dataset, y_train)\n",
    "\n",
    "predictions = nb_classifier.predict(test_dataset)"
   ]
  },
  {
   "cell_type": "code",
   "execution_count": 117,
   "metadata": {},
   "outputs": [
    {
     "name": "stdout",
     "output_type": "stream",
     "text": [
      "[[130  56]\n",
      " [  0 192]]\n",
      "0.8518518518518519\n",
      "              precision    recall  f1-score   support\n",
      "\n",
      "           0       1.00      0.70      0.82       186\n",
      "           1       0.77      1.00      0.87       192\n",
      "\n",
      "    accuracy                           0.85       378\n",
      "   macro avg       0.89      0.85      0.85       378\n",
      "weighted avg       0.89      0.85      0.85       378\n",
      "\n"
     ]
    }
   ],
   "source": [
    "conf_matrix = confusion_matrix(y_test, predictions)\n",
    "print(conf_matrix)\n",
    "score = accuracy_score(y_test, predictions)\n",
    "print(score)\n",
    "report = classification_report(y_test, predictions)\n",
    "print(report)"
   ]
  },
  {
   "cell_type": "code",
   "execution_count": null,
   "metadata": {},
   "outputs": [],
   "source": []
  }
 ],
 "metadata": {
  "kernelspec": {
   "display_name": "Python 3",
   "language": "python",
   "name": "python3"
  },
  "language_info": {
   "codemirror_mode": {
    "name": "ipython",
    "version": 3
   },
   "file_extension": ".py",
   "mimetype": "text/x-python",
   "name": "python",
   "nbconvert_exporter": "python",
   "pygments_lexer": "ipython3",
   "version": "3.8.5"
  }
 },
 "nbformat": 4,
 "nbformat_minor": 4
}
